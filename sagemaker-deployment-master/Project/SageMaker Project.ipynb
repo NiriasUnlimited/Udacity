{
 "cells": [
  {
   "cell_type": "markdown",
   "metadata": {},
   "source": [
    "# Creating a Sentiment Analysis Web App\n",
    "## Using PyTorch and SageMaker\n",
    "\n",
    "_Deep Learning Nanodegree Program | Deployment_\n",
    "\n",
    "---\n",
    "\n",
    "Now that we have a basic understanding of how SageMaker works we will try to use it to construct a complete project from end to end. Our goal will be to have a simple web page which a user can use to enter a movie review. The web page will then send the review off to our deployed model which will predict the sentiment of the entered review.\n",
    "\n",
    "## Instructions\n",
    "\n",
    "Some template code has already been provided for you, and you will need to implement additional functionality to successfully complete this notebook. You will not need to modify the included code beyond what is requested. Sections that begin with '**TODO**' in the header indicate that you need to complete or implement some portion within them. Instructions will be provided for each section and the specifics of the implementation are marked in the code block with a `# TODO: ...` comment. Please be sure to read the instructions carefully!\n",
    "\n",
    "In addition to implementing code, there will be questions for you to answer which relate to the task and your implementation. Each section where you will answer a question is preceded by a '**Question:**' header. Carefully read each question and provide your answer below the '**Answer:**' header by editing the Markdown cell.\n",
    "\n",
    "> **Note**: Code and Markdown cells can be executed using the **Shift+Enter** keyboard shortcut. In addition, a cell can be edited by typically clicking it (double-click for Markdown cells) or by pressing **Enter** while it is highlighted.\n",
    "\n",
    "## General Outline\n",
    "\n",
    "Recall the general outline for SageMaker projects using a notebook instance.\n",
    "\n",
    "1. Download or otherwise retrieve the data.\n",
    "2. Process / Prepare the data.\n",
    "3. Upload the processed data to S3.\n",
    "4. Train a chosen model.\n",
    "5. Test the trained model (typically using a batch transform job).\n",
    "6. Deploy the trained model.\n",
    "7. Use the deployed model.\n",
    "\n",
    "For this project, you will be following the steps in the general outline with some modifications. \n",
    "\n",
    "First, you will not be testing the model in its own step. You will still be testing the model, however, you will do it by deploying your model and then using the deployed model by sending the test data to it. One of the reasons for doing this is so that you can make sure that your deployed model is working correctly before moving forward.\n",
    "\n",
    "In addition, you will deploy and use your trained model a second time. In the second iteration you will customize the way that your trained model is deployed by including some of your own code. In addition, your newly deployed model will be used in the sentiment analysis web app."
   ]
  },
  {
   "cell_type": "markdown",
   "metadata": {},
   "source": [
    "## Step 1: Downloading the data\n",
    "\n",
    "As in the XGBoost in SageMaker notebook, we will be using the [IMDb dataset](http://ai.stanford.edu/~amaas/data/sentiment/)\n",
    "\n",
    "> Maas, Andrew L., et al. [Learning Word Vectors for Sentiment Analysis](http://ai.stanford.edu/~amaas/data/sentiment/). In _Proceedings of the 49th Annual Meeting of the Association for Computational Linguistics: Human Language Technologies_. Association for Computational Linguistics, 2011."
   ]
  },
  {
   "cell_type": "code",
   "execution_count": 1,
   "metadata": {},
   "outputs": [
    {
     "name": "stdout",
     "output_type": "stream",
     "text": [
      "--2019-10-16 17:00:00--  http://ai.stanford.edu/~amaas/data/sentiment/aclImdb_v1.tar.gz\n",
      "Resolving ai.stanford.edu (ai.stanford.edu)... 171.64.68.10\n",
      "Connecting to ai.stanford.edu (ai.stanford.edu)|171.64.68.10|:80... connected.\n",
      "HTTP request sent, awaiting response... 200 OK\n",
      "Length: 84125825 (80M) [application/x-gzip]\n",
      "Saving to: ‘../data/aclImdb_v1.tar.gz’\n",
      "\n",
      "../data/aclImdb_v1. 100%[===================>]  80.23M  24.2MB/s    in 4.1s    \n",
      "\n",
      "2019-10-16 17:00:04 (19.6 MB/s) - ‘../data/aclImdb_v1.tar.gz’ saved [84125825/84125825]\n",
      "\n"
     ]
    }
   ],
   "source": [
    "%mkdir ../data\n",
    "!wget -O ../data/aclImdb_v1.tar.gz http://ai.stanford.edu/~amaas/data/sentiment/aclImdb_v1.tar.gz\n",
    "!tar -zxf ../data/aclImdb_v1.tar.gz -C ../data"
   ]
  },
  {
   "cell_type": "markdown",
   "metadata": {},
   "source": [
    "## Step 2: Preparing and Processing the data\n",
    "\n",
    "Also, as in the XGBoost notebook, we will be doing some initial data processing. The first few steps are the same as in the XGBoost example. To begin with, we will read in each of the reviews and combine them into a single input structure. Then, we will split the dataset into a training set and a testing set."
   ]
  },
  {
   "cell_type": "code",
   "execution_count": 2,
   "metadata": {},
   "outputs": [],
   "source": [
    "import os\n",
    "import glob\n",
    "\n",
    "def read_imdb_data(data_dir='../data/aclImdb'):\n",
    "    data = {}\n",
    "    labels = {}\n",
    "    \n",
    "    for data_type in ['train', 'test']:\n",
    "        data[data_type] = {}\n",
    "        labels[data_type] = {}\n",
    "        \n",
    "        for sentiment in ['pos', 'neg']:\n",
    "            data[data_type][sentiment] = []\n",
    "            labels[data_type][sentiment] = []\n",
    "            \n",
    "            path = os.path.join(data_dir, data_type, sentiment, '*.txt')\n",
    "            files = glob.glob(path)\n",
    "            \n",
    "            for f in files:\n",
    "                with open(f) as review:\n",
    "                    data[data_type][sentiment].append(review.read())\n",
    "                    # Here we represent a positive review by '1' and a negative review by '0'\n",
    "                    labels[data_type][sentiment].append(1 if sentiment == 'pos' else 0)\n",
    "                    \n",
    "            assert len(data[data_type][sentiment]) == len(labels[data_type][sentiment]), \\\n",
    "                    \"{}/{} data size does not match labels size\".format(data_type, sentiment)\n",
    "                \n",
    "    return data, labels"
   ]
  },
  {
   "cell_type": "code",
   "execution_count": 3,
   "metadata": {},
   "outputs": [
    {
     "name": "stdout",
     "output_type": "stream",
     "text": [
      "IMDB reviews: train = 12500 pos / 12500 neg, test = 12500 pos / 12500 neg\n"
     ]
    }
   ],
   "source": [
    "data, labels = read_imdb_data()\n",
    "print(\"IMDB reviews: train = {} pos / {} neg, test = {} pos / {} neg\".format(\n",
    "            len(data['train']['pos']), len(data['train']['neg']),\n",
    "            len(data['test']['pos']), len(data['test']['neg'])))"
   ]
  },
  {
   "cell_type": "markdown",
   "metadata": {},
   "source": [
    "Now that we've read the raw training and testing data from the downloaded dataset, we will combine the positive and negative reviews and shuffle the resulting records."
   ]
  },
  {
   "cell_type": "code",
   "execution_count": 4,
   "metadata": {},
   "outputs": [],
   "source": [
    "from sklearn.utils import shuffle\n",
    "\n",
    "def prepare_imdb_data(data, labels):\n",
    "    \"\"\"Prepare training and test sets from IMDb movie reviews.\"\"\"\n",
    "    \n",
    "    #Combine positive and negative reviews and labels\n",
    "    data_train = data['train']['pos'] + data['train']['neg']\n",
    "    data_test = data['test']['pos'] + data['test']['neg']\n",
    "    labels_train = labels['train']['pos'] + labels['train']['neg']\n",
    "    labels_test = labels['test']['pos'] + labels['test']['neg']\n",
    "    \n",
    "    #Shuffle reviews and corresponding labels within training and test sets\n",
    "    data_train, labels_train = shuffle(data_train, labels_train)\n",
    "    data_test, labels_test = shuffle(data_test, labels_test)\n",
    "    \n",
    "    # Return a unified training data, test data, training labels, test labets\n",
    "    return data_train, data_test, labels_train, labels_test"
   ]
  },
  {
   "cell_type": "code",
   "execution_count": 5,
   "metadata": {},
   "outputs": [
    {
     "name": "stdout",
     "output_type": "stream",
     "text": [
      "IMDb reviews (combined): train = 25000, test = 25000\n"
     ]
    }
   ],
   "source": [
    "train_X, test_X, train_y, test_y = prepare_imdb_data(data, labels)\n",
    "print(\"IMDb reviews (combined): train = {}, test = {}\".format(len(train_X), len(test_X)))"
   ]
  },
  {
   "cell_type": "markdown",
   "metadata": {},
   "source": [
    "Now that we have our training and testing sets unified and prepared, we should do a quick check and see an example of the data our model will be trained on. This is generally a good idea as it allows you to see how each of the further processing steps affects the reviews and it also ensures that the data has been loaded correctly."
   ]
  },
  {
   "cell_type": "code",
   "execution_count": 6,
   "metadata": {},
   "outputs": [
    {
     "name": "stdout",
     "output_type": "stream",
     "text": [
      "While I count myself as a fan of the Babylon 5 television series, the original movie that introduced the series was a weak start. Although many of the elements that would later mature and become much more compelling in the series are there, the pace of The Gathering is slow, the makeup somewhat inadequate, and the plot confusing. Worse, the characterization in the premiere episode is poor. Although the ratings chart shows that many fans are willing to overlook these problems, I remember The Gathering almost turned me off off what soon grew into a spectacular series.\n",
      "0\n"
     ]
    }
   ],
   "source": [
    "print(train_X[100])\n",
    "print(train_y[100])"
   ]
  },
  {
   "cell_type": "markdown",
   "metadata": {},
   "source": [
    "The first step in processing the reviews is to make sure that any html tags that appear should be removed. In addition we wish to tokenize our input, that way words such as *entertained* and *entertaining* are considered the same with regard to sentiment analysis."
   ]
  },
  {
   "cell_type": "code",
   "execution_count": 7,
   "metadata": {},
   "outputs": [],
   "source": [
    "import nltk\n",
    "from nltk.corpus import stopwords\n",
    "from nltk.stem.porter import *\n",
    "\n",
    "import re\n",
    "from bs4 import BeautifulSoup\n",
    "\n",
    "def review_to_words(review):\n",
    "    nltk.download(\"stopwords\", quiet=True)\n",
    "    stemmer = PorterStemmer()\n",
    "    \n",
    "    text = BeautifulSoup(review, \"html.parser\").get_text() # Remove HTML tags\n",
    "    text = re.sub(r\"[^a-zA-Z0-9]\", \" \", text.lower()) # Convert to lower case\n",
    "    words = text.split() # Split string into words\n",
    "    words = [w for w in words if w not in stopwords.words(\"english\")] # Remove stopwords\n",
    "    words = [PorterStemmer().stem(w) for w in words] # stem\n",
    "\n",
    "    return words"
   ]
  },
  {
   "cell_type": "markdown",
   "metadata": {},
   "source": [
    "The `review_to_words` method defined above uses `BeautifulSoup` to remove any html tags that appear and uses the `nltk` package to tokenize the reviews. As a check to ensure we know how everything is working, try applying `review_to_words` to one of the reviews in the training set."
   ]
  },
  {
   "cell_type": "code",
   "execution_count": 8,
   "metadata": {},
   "outputs": [
    {
     "data": {
      "text/plain": [
       "['count',\n",
       " 'fan',\n",
       " 'babylon',\n",
       " '5',\n",
       " 'televis',\n",
       " 'seri',\n",
       " 'origin',\n",
       " 'movi',\n",
       " 'introduc',\n",
       " 'seri',\n",
       " 'weak',\n",
       " 'start',\n",
       " 'although',\n",
       " 'mani',\n",
       " 'element',\n",
       " 'would',\n",
       " 'later',\n",
       " 'matur',\n",
       " 'becom',\n",
       " 'much',\n",
       " 'compel',\n",
       " 'seri',\n",
       " 'pace',\n",
       " 'gather',\n",
       " 'slow',\n",
       " 'makeup',\n",
       " 'somewhat',\n",
       " 'inadequ',\n",
       " 'plot',\n",
       " 'confus',\n",
       " 'wors',\n",
       " 'character',\n",
       " 'premier',\n",
       " 'episod',\n",
       " 'poor',\n",
       " 'although',\n",
       " 'rate',\n",
       " 'chart',\n",
       " 'show',\n",
       " 'mani',\n",
       " 'fan',\n",
       " 'will',\n",
       " 'overlook',\n",
       " 'problem',\n",
       " 'rememb',\n",
       " 'gather',\n",
       " 'almost',\n",
       " 'turn',\n",
       " 'soon',\n",
       " 'grew',\n",
       " 'spectacular',\n",
       " 'seri']"
      ]
     },
     "execution_count": 8,
     "metadata": {},
     "output_type": "execute_result"
    }
   ],
   "source": [
    "# DONE: Apply review_to_words to a review (train_X[100] or any other review)\n",
    "\n",
    "review_to_words(train_X[100])"
   ]
  },
  {
   "cell_type": "markdown",
   "metadata": {},
   "source": [
    "**Question:** Above we mentioned that `review_to_words` method removes html formatting and allows us to tokenize the words found in a review, for example, converting *entertained* and *entertaining* into *entertain* so that they are treated as though they are the same word. What else, if anything, does this method do to the input?"
   ]
  },
  {
   "cell_type": "markdown",
   "metadata": {},
   "source": [
    "**Answer:** This method does three other things : \n",
    "* it removes punctuation\n",
    "* it removes connector words/stop words ('it', 'the', 'and'...)\n",
    "* it converts all words lowercase."
   ]
  },
  {
   "cell_type": "markdown",
   "metadata": {},
   "source": [
    "The method below applies the `review_to_words` method to each of the reviews in the training and testing datasets. In addition it caches the results. This is because performing this processing step can take a long time. This way if you are unable to complete the notebook in the current session, you can come back without needing to process the data a second time."
   ]
  },
  {
   "cell_type": "code",
   "execution_count": 9,
   "metadata": {},
   "outputs": [],
   "source": [
    "import pickle\n",
    "\n",
    "cache_dir = os.path.join(\"../cache\", \"sentiment_analysis\")  # where to store cache files\n",
    "os.makedirs(cache_dir, exist_ok=True)  # ensure cache directory exists\n",
    "\n",
    "def preprocess_data(data_train, data_test, labels_train, labels_test,\n",
    "                    cache_dir=cache_dir, cache_file=\"preprocessed_data.pkl\"):\n",
    "    \"\"\"Convert each review to words; read from cache if available.\"\"\"\n",
    "\n",
    "    # If cache_file is not None, try to read from it first\n",
    "    cache_data = None\n",
    "    if cache_file is not None:\n",
    "        try:\n",
    "            with open(os.path.join(cache_dir, cache_file), \"rb\") as f:\n",
    "                cache_data = pickle.load(f)\n",
    "            print(\"Read preprocessed data from cache file:\", cache_file)\n",
    "        except:\n",
    "            pass  # unable to read from cache, but that's okay\n",
    "    \n",
    "    # If cache is missing, then do the heavy lifting\n",
    "    if cache_data is None:\n",
    "        # Preprocess training and test data to obtain words for each review\n",
    "        words_train = list(map(review_to_words, data_train))\n",
    "        words_test = list(map(review_to_words, data_test))\n",
    "        #words_train = [review_to_words(review) for review in data_train]\n",
    "        #words_test = [review_to_words(review) for review in data_test]\n",
    "        \n",
    "        # Write to cache file for future runs\n",
    "        if cache_file is not None:\n",
    "            cache_data = dict(words_train=words_train, words_test=words_test,\n",
    "                              labels_train=labels_train, labels_test=labels_test)\n",
    "            with open(os.path.join(cache_dir, cache_file), \"wb\") as f:\n",
    "                pickle.dump(cache_data, f)\n",
    "            print(\"Wrote preprocessed data to cache file:\", cache_file)\n",
    "    else:\n",
    "        # Unpack data loaded from cache file\n",
    "        words_train, words_test, labels_train, labels_test = (cache_data['words_train'],\n",
    "                cache_data['words_test'], cache_data['labels_train'], cache_data['labels_test'])\n",
    "    \n",
    "    return words_train, words_test, labels_train, labels_test"
   ]
  },
  {
   "cell_type": "code",
   "execution_count": 10,
   "metadata": {},
   "outputs": [
    {
     "name": "stdout",
     "output_type": "stream",
     "text": [
      "Wrote preprocessed data to cache file: preprocessed_data.pkl\n"
     ]
    }
   ],
   "source": [
    "# Preprocess data\n",
    "train_X, test_X, train_y, test_y = preprocess_data(train_X, test_X, train_y, test_y)"
   ]
  },
  {
   "cell_type": "markdown",
   "metadata": {},
   "source": [
    "## Transform the data\n",
    "\n",
    "In the XGBoost notebook we transformed the data from its word representation to a bag-of-words feature representation. For the model we are going to construct in this notebook we will construct a feature representation which is very similar. To start, we will represent each word as an integer. Of course, some of the words that appear in the reviews occur very infrequently and so likely don't contain much information for the purposes of sentiment analysis. The way we will deal with this problem is that we will fix the size of our working vocabulary and we will only include the words that appear most frequently. We will then combine all of the infrequent words into a single category and, in our case, we will label it as `1`.\n",
    "\n",
    "Since we will be using a recurrent neural network, it will be convenient if the length of each review is the same. To do this, we will fix a size for our reviews and then pad short reviews with the category 'no word' (which we will label `0`) and truncate long reviews."
   ]
  },
  {
   "cell_type": "markdown",
   "metadata": {},
   "source": [
    "### (DONE) Create a word dictionary\n",
    "\n",
    "To begin with, we need to construct a way to map words that appear in the reviews to integers. Here we fix the size of our vocabulary (including the 'no word' and 'infrequent' categories) to be `5000` but you may wish to change this to see how it affects the model.\n",
    "\n",
    "> **DONE:** Complete the implementation for the `build_dict()` method below. Note that even though the vocab_size is set to `5000`, we only want to construct a mapping for the most frequently appearing `4998` words. This is because we want to reserve the special labels `0` for 'no word' and `1` for 'infrequent word'."
   ]
  },
  {
   "cell_type": "code",
   "execution_count": 11,
   "metadata": {},
   "outputs": [],
   "source": [
    "import numpy as np\n",
    "\n",
    "def build_dict(data, vocab_size = 5000):\n",
    "    \"\"\"Construct and return a dictionary mapping each of the most frequently appearing words to a unique integer.\"\"\"\n",
    "    \n",
    "    # DONE: Determine how often each word appears in `data`. Note that `data` is a list of sentences and that a\n",
    "    #       sentence is a list of words.\n",
    "    \n",
    "    word_count = {} # A dict storing the words that appear in the reviews along with how often they occur\n",
    "    \n",
    "    for review in data: # foreach review\n",
    "        for word in review: # foreach word\n",
    "            if word in word_count: # if the word has already been encountered\n",
    "                word_count[word] += 1\n",
    "            else: # new word\n",
    "                word_count[word] = 1\n",
    "\n",
    "\n",
    "    # DONE: Sort the words found in `data` so that sorted_words[0] is the most frequently appearing word and\n",
    "    #       sorted_words[-1] is the least frequently appearing word.\n",
    "    \n",
    "    \"\"\"Sorting with python documentation : https://docs.python.org/3/howto/sorting.html\"\"\"\n",
    "    sorted_words = sorted(word_count, key=word_count.get, reverse=True)\n",
    "    \n",
    "    word_dict = {} # This is what we are building, a dictionary that translates words into integers\n",
    "    for idx, word in enumerate(sorted_words[:vocab_size - 2]): # The -2 is so that we save room for the 'no word'\n",
    "        word_dict[word] = idx + 2                              # 'infrequent' labels\n",
    "        \n",
    "    return word_dict"
   ]
  },
  {
   "cell_type": "code",
   "execution_count": 12,
   "metadata": {},
   "outputs": [],
   "source": [
    "word_dict = build_dict(train_X)"
   ]
  },
  {
   "cell_type": "markdown",
   "metadata": {},
   "source": [
    "**Question:** What are the five most frequently appearing (tokenized) words in the training set? Does it makes sense that these words appear frequently in the training set?"
   ]
  },
  {
   "cell_type": "markdown",
   "metadata": {},
   "source": [
    "**Answer:**"
   ]
  },
  {
   "cell_type": "code",
   "execution_count": 13,
   "metadata": {},
   "outputs": [
    {
     "data": {
      "text/plain": [
       "['movi', 'film', 'one', 'like', 'time']"
      ]
     },
     "execution_count": 13,
     "metadata": {},
     "output_type": "execute_result"
    }
   ],
   "source": [
    "# DONE: Use this space to determine the five most frequently appearing words in the training set.\n",
    "\n",
    "list(word_dict.keys())[:5]"
   ]
  },
  {
   "cell_type": "markdown",
   "metadata": {},
   "source": [
    "It seems that those words, `movi`, `film`, `one`, `like` and `time`, are very likely to appear in a film/movie review, giving an opinion about the great time you had and that you liked the moment.  "
   ]
  },
  {
   "cell_type": "markdown",
   "metadata": {},
   "source": [
    "### Save `word_dict`\n",
    "\n",
    "Later on when we construct an endpoint which processes a submitted review we will need to make use of the `word_dict` which we have created. As such, we will save it to a file now for future use."
   ]
  },
  {
   "cell_type": "code",
   "execution_count": 14,
   "metadata": {},
   "outputs": [],
   "source": [
    "data_dir = '../data/pytorch' # The folder we will use for storing data\n",
    "if not os.path.exists(data_dir): # Make sure that the folder exists\n",
    "    os.makedirs(data_dir)"
   ]
  },
  {
   "cell_type": "code",
   "execution_count": 15,
   "metadata": {},
   "outputs": [],
   "source": [
    "with open(os.path.join(data_dir, 'word_dict.pkl'), \"wb\") as f:\n",
    "    pickle.dump(word_dict, f)"
   ]
  },
  {
   "cell_type": "markdown",
   "metadata": {},
   "source": [
    "### Transform the reviews\n",
    "\n",
    "Now that we have our word dictionary which allows us to transform the words appearing in the reviews into integers, it is time to make use of it and convert our reviews to their integer sequence representation, making sure to pad or truncate to a fixed length, which in our case is `500`."
   ]
  },
  {
   "cell_type": "code",
   "execution_count": 16,
   "metadata": {},
   "outputs": [],
   "source": [
    "def convert_and_pad(word_dict, sentence, pad=500):\n",
    "    NOWORD = 0 # We will use 0 to represent the 'no word' category\n",
    "    INFREQ = 1 # and we use 1 to represent the infrequent words, i.e., words not appearing in word_dict\n",
    "    \n",
    "    working_sentence = [NOWORD] * pad\n",
    "    \n",
    "    for word_index, word in enumerate(sentence[:pad]):\n",
    "        if word in word_dict:\n",
    "            working_sentence[word_index] = word_dict[word]\n",
    "        else:\n",
    "            working_sentence[word_index] = INFREQ\n",
    "            \n",
    "    return working_sentence, min(len(sentence), pad)\n",
    "\n",
    "def convert_and_pad_data(word_dict, data, pad=500):\n",
    "    result = []\n",
    "    lengths = []\n",
    "    \n",
    "    for sentence in data:\n",
    "        converted, leng = convert_and_pad(word_dict, sentence, pad)\n",
    "        result.append(converted)\n",
    "        lengths.append(leng)\n",
    "        \n",
    "    return np.array(result), np.array(lengths)"
   ]
  },
  {
   "cell_type": "code",
   "execution_count": 17,
   "metadata": {},
   "outputs": [],
   "source": [
    "train_X, train_X_len = convert_and_pad_data(word_dict, train_X)\n",
    "test_X, test_X_len = convert_and_pad_data(word_dict, test_X)"
   ]
  },
  {
   "cell_type": "markdown",
   "metadata": {},
   "source": [
    "As a quick check to make sure that things are working as intended, check to see what one of the reviews in the training set looks like after having been processeed. Does this look reasonable? What is the length of a review in the training set?"
   ]
  },
  {
   "cell_type": "code",
   "execution_count": 18,
   "metadata": {},
   "outputs": [
    {
     "name": "stdout",
     "output_type": "stream",
     "text": [
      "[  12    2    1  239 1756 2096    1 4815 1832    1    2   30    1  108\n",
      "  193   97    3    1  346   18 1298 1144 4403    1  143   20   17  346\n",
      " 3934 3330  543   23 1165  326   86  667   22 4403    1   33  237 1151\n",
      "   29    1 1880   54 2258  237  228 4403  138 3330 3331 1457  983   51\n",
      "  245  186  142  973   18 1093 1522   20  476    1 1165    1   30 3264\n",
      " 4095  571 2368   17  143  233  106    1    1 2709   16  609  591    1\n",
      "  266  104  996  213 2981  140 4284  653  680    1   78  584 1458  103\n",
      "   78  231  271 3028  139  185 4284  150 1458    1  148  262  419 4284\n",
      "  150  841  137  568  112  448   26    2    1  634  711 1338  171  579\n",
      "    1    1  452  229  452   83 1267  134   39  341  127    1  173 1380\n",
      " 4504 1338  470  631    1  277 1829  210    0    0    0    0    0    0\n",
      "    0    0    0    0    0    0    0    0    0    0    0    0    0    0\n",
      "    0    0    0    0    0    0    0    0    0    0    0    0    0    0\n",
      "    0    0    0    0    0    0    0    0    0    0    0    0    0    0\n",
      "    0    0    0    0    0    0    0    0    0    0    0    0    0    0\n",
      "    0    0    0    0    0    0    0    0    0    0    0    0    0    0\n",
      "    0    0    0    0    0    0    0    0    0    0    0    0    0    0\n",
      "    0    0    0    0    0    0    0    0    0    0    0    0    0    0\n",
      "    0    0    0    0    0    0    0    0    0    0    0    0    0    0\n",
      "    0    0    0    0    0    0    0    0    0    0    0    0    0    0\n",
      "    0    0    0    0    0    0    0    0    0    0    0    0    0    0\n",
      "    0    0    0    0    0    0    0    0    0    0    0    0    0    0\n",
      "    0    0    0    0    0    0    0    0    0    0    0    0    0    0\n",
      "    0    0    0    0    0    0    0    0    0    0    0    0    0    0\n",
      "    0    0    0    0    0    0    0    0    0    0    0    0    0    0\n",
      "    0    0    0    0    0    0    0    0    0    0    0    0    0    0\n",
      "    0    0    0    0    0    0    0    0    0    0    0    0    0    0\n",
      "    0    0    0    0    0    0    0    0    0    0    0    0    0    0\n",
      "    0    0    0    0    0    0    0    0    0    0    0    0    0    0\n",
      "    0    0    0    0    0    0    0    0    0    0    0    0    0    0\n",
      "    0    0    0    0    0    0    0    0    0    0    0    0    0    0\n",
      "    0    0    0    0    0    0    0    0    0    0    0    0    0    0\n",
      "    0    0    0    0    0    0    0    0    0    0    0    0    0    0\n",
      "    0    0    0    0    0    0    0    0    0    0    0    0    0    0\n",
      "    0    0    0    0    0    0    0    0    0    0    0    0    0    0\n",
      "    0    0    0    0    0    0    0    0    0    0]\n"
     ]
    }
   ],
   "source": [
    "# Use this cell to examine one of the processed reviews to make sure everything is working as intended.\n",
    "\n",
    "print(train_X[0]) # examination of the first review"
   ]
  },
  {
   "cell_type": "markdown",
   "metadata": {},
   "source": [
    "**Question:** In the cells above we use the `preprocess_data` and `convert_and_pad_data` methods to process both the training and testing set. Why or why not might this be a problem?"
   ]
  },
  {
   "cell_type": "markdown",
   "metadata": {},
   "source": [
    "**Answer:** There might not be a problem using those methods since we have training vectors of the same size regardless the size of the review. \n",
    "We can of course notice that the shortest reviews will have lots of zeros and loading data can take quite some time with this preprocessing method this won't result in data leakage."
   ]
  },
  {
   "cell_type": "markdown",
   "metadata": {},
   "source": [
    "## Step 3: Upload the data to S3\n",
    "\n",
    "As in the XGBoost notebook, we will need to upload the training dataset to S3 in order for our training code to access it. For now we will save it locally and we will upload to S3 later on.\n",
    "\n",
    "### Save the processed training dataset locally\n",
    "\n",
    "It is important to note the format of the data that we are saving as we will need to know it when we write the training code. In our case, each row of the dataset has the form `label`, `length`, `review[500]` where `review[500]` is a sequence of `500` integers representing the words in the review."
   ]
  },
  {
   "cell_type": "code",
   "execution_count": 19,
   "metadata": {},
   "outputs": [],
   "source": [
    "import pandas as pd\n",
    "    \n",
    "pd.concat([pd.DataFrame(train_y), pd.DataFrame(train_X_len), pd.DataFrame(train_X)], axis=1) \\\n",
    "        .to_csv(os.path.join(data_dir, 'train.csv'), header=False, index=False)"
   ]
  },
  {
   "cell_type": "markdown",
   "metadata": {},
   "source": [
    "### Uploading the training data\n",
    "\n",
    "\n",
    "Next, we need to upload the training data to the SageMaker default S3 bucket so that we can provide access to it while training our model."
   ]
  },
  {
   "cell_type": "code",
   "execution_count": 20,
   "metadata": {},
   "outputs": [],
   "source": [
    "import sagemaker\n",
    "\n",
    "sagemaker_session = sagemaker.Session()\n",
    "\n",
    "bucket = sagemaker_session.default_bucket()\n",
    "prefix = 'sagemaker/sentiment_rnn'\n",
    "\n",
    "role = sagemaker.get_execution_role()"
   ]
  },
  {
   "cell_type": "code",
   "execution_count": 21,
   "metadata": {},
   "outputs": [],
   "source": [
    "input_data = sagemaker_session.upload_data(path=data_dir, bucket=bucket, key_prefix=prefix)"
   ]
  },
  {
   "cell_type": "markdown",
   "metadata": {},
   "source": [
    "**NOTE:** The cell above uploads the entire contents of our data directory. This includes the `word_dict.pkl` file. This is fortunate as we will need this later on when we create an endpoint that accepts an arbitrary review. For now, we will just take note of the fact that it resides in the data directory (and so also in the S3 training bucket) and that we will need to make sure it gets saved in the model directory."
   ]
  },
  {
   "cell_type": "markdown",
   "metadata": {},
   "source": [
    "## Step 4: Build and Train the PyTorch Model\n",
    "\n",
    "In the XGBoost notebook we discussed what a model is in the SageMaker framework. In particular, a model comprises three objects\n",
    "\n",
    " - Model Artifacts,\n",
    " - Training Code, and\n",
    " - Inference Code,\n",
    " \n",
    "each of which interact with one another. In the XGBoost example we used training and inference code that was provided by Amazon. Here we will still be using containers provided by Amazon with the added benefit of being able to include our own custom code.\n",
    "\n",
    "We will start by implementing our own neural network in PyTorch along with a training script. For the purposes of this project we have provided the necessary model object in the `model.py` file, inside of the `train` folder. You can see the provided implementation by running the cell below."
   ]
  },
  {
   "cell_type": "code",
   "execution_count": 22,
   "metadata": {},
   "outputs": [
    {
     "name": "stdout",
     "output_type": "stream",
     "text": [
      "\u001b[34mimport\u001b[39;49;00m \u001b[04m\u001b[36mtorch.nn\u001b[39;49;00m \u001b[34mas\u001b[39;49;00m \u001b[04m\u001b[36mnn\u001b[39;49;00m\r\n",
      "\r\n",
      "\u001b[34mclass\u001b[39;49;00m \u001b[04m\u001b[32mLSTMClassifier\u001b[39;49;00m(nn.Module):\r\n",
      "    \u001b[33m\"\"\"\u001b[39;49;00m\r\n",
      "\u001b[33m    This is the simple RNN model we will be using to perform Sentiment Analysis.\u001b[39;49;00m\r\n",
      "\u001b[33m    \"\"\"\u001b[39;49;00m\r\n",
      "\r\n",
      "    \u001b[34mdef\u001b[39;49;00m \u001b[32m__init__\u001b[39;49;00m(\u001b[36mself\u001b[39;49;00m, embedding_dim, hidden_dim, vocab_size):\r\n",
      "        \u001b[33m\"\"\"\u001b[39;49;00m\r\n",
      "\u001b[33m        Initialize the model by settingg up the various layers.\u001b[39;49;00m\r\n",
      "\u001b[33m        \"\"\"\u001b[39;49;00m\r\n",
      "        \u001b[36msuper\u001b[39;49;00m(LSTMClassifier, \u001b[36mself\u001b[39;49;00m).\u001b[32m__init__\u001b[39;49;00m()\r\n",
      "\r\n",
      "        \u001b[36mself\u001b[39;49;00m.embedding = nn.Embedding(vocab_size, embedding_dim, padding_idx=\u001b[34m0\u001b[39;49;00m)\r\n",
      "        \u001b[36mself\u001b[39;49;00m.lstm = nn.LSTM(embedding_dim, hidden_dim)\r\n",
      "        \u001b[36mself\u001b[39;49;00m.dense = nn.Linear(in_features=hidden_dim, out_features=\u001b[34m1\u001b[39;49;00m)\r\n",
      "        \u001b[36mself\u001b[39;49;00m.sig = nn.Sigmoid()\r\n",
      "        \r\n",
      "        \u001b[36mself\u001b[39;49;00m.word_dict = \u001b[36mNone\u001b[39;49;00m\r\n",
      "\r\n",
      "    \u001b[34mdef\u001b[39;49;00m \u001b[32mforward\u001b[39;49;00m(\u001b[36mself\u001b[39;49;00m, x):\r\n",
      "        \u001b[33m\"\"\"\u001b[39;49;00m\r\n",
      "\u001b[33m        Perform a forward pass of our model on some input.\u001b[39;49;00m\r\n",
      "\u001b[33m        \"\"\"\u001b[39;49;00m\r\n",
      "        x = x.t()\r\n",
      "        lengths = x[\u001b[34m0\u001b[39;49;00m,:]\r\n",
      "        reviews = x[\u001b[34m1\u001b[39;49;00m:,:]\r\n",
      "        embeds = \u001b[36mself\u001b[39;49;00m.embedding(reviews)\r\n",
      "        lstm_out, _ = \u001b[36mself\u001b[39;49;00m.lstm(embeds)\r\n",
      "        out = \u001b[36mself\u001b[39;49;00m.dense(lstm_out)\r\n",
      "        out = out[lengths - \u001b[34m1\u001b[39;49;00m, \u001b[36mrange\u001b[39;49;00m(\u001b[36mlen\u001b[39;49;00m(lengths))]\r\n",
      "        \u001b[34mreturn\u001b[39;49;00m \u001b[36mself\u001b[39;49;00m.sig(out.squeeze())\r\n"
     ]
    }
   ],
   "source": [
    "!pygmentize train/model.py"
   ]
  },
  {
   "cell_type": "markdown",
   "metadata": {},
   "source": [
    "The important takeaway from the implementation provided is that there are three parameters that we may wish to tweak to improve the performance of our model. These are the embedding dimension, the hidden dimension and the size of the vocabulary. We will likely want to make these parameters configurable in the training script so that if we wish to modify them we do not need to modify the script itself. We will see how to do this later on. To start we will write some of the training code in the notebook so that we can more easily diagnose any issues that arise.\n",
    "\n",
    "First we will load a small portion of the training data set to use as a sample. It would be very time consuming to try and train the model completely in the notebook as we do not have access to a gpu and the compute instance that we are using is not particularly powerful. However, we can work on a small bit of the data to get a feel for how our training script is behaving."
   ]
  },
  {
   "cell_type": "code",
   "execution_count": 23,
   "metadata": {},
   "outputs": [],
   "source": [
    "import torch\n",
    "import torch.utils.data\n",
    "\n",
    "# Read in only the first 250 rows\n",
    "train_sample = pd.read_csv(os.path.join(data_dir, 'train.csv'), header=None, names=None, nrows=250)\n",
    "\n",
    "# Turn the input pandas dataframe into tensors\n",
    "train_sample_y = torch.from_numpy(train_sample[[0]].values).float().squeeze()\n",
    "train_sample_X = torch.from_numpy(train_sample.drop([0], axis=1).values).long()\n",
    "\n",
    "# Build the dataset\n",
    "train_sample_ds = torch.utils.data.TensorDataset(train_sample_X, train_sample_y)\n",
    "# Build the dataloader\n",
    "train_sample_dl = torch.utils.data.DataLoader(train_sample_ds, batch_size=50)"
   ]
  },
  {
   "cell_type": "markdown",
   "metadata": {},
   "source": [
    "### (DONE) Writing the training method\n",
    "\n",
    "Next we need to write the training code itself. This should be very similar to training methods that you have written before to train PyTorch models. We will leave any difficult aspects such as model saving / loading and parameter loading until a little later."
   ]
  },
  {
   "cell_type": "code",
   "execution_count": 24,
   "metadata": {},
   "outputs": [],
   "source": [
    "def train(model, train_loader, epochs, optimizer, loss_fn, device):\n",
    "    for epoch in range(1, epochs + 1):\n",
    "        model.train()\n",
    "        total_loss = 0\n",
    "        for batch in train_loader:\n",
    "            batch_X, batch_y = batch\n",
    "\n",
    "            batch_X = batch_X.to(device)\n",
    "            batch_y = batch_y.to(device)\n",
    "\n",
    "            # DONE: Complete this train method to train the model provided.\n",
    "            optimizer.zero_grad() # set the gradients to zero\n",
    "            out = model.forward(batch_X) # forward propagation\n",
    "            loss = loss_fn(out, batch_y) # compute loss\n",
    "            loss.backward() # backward propagation\n",
    "            optimizer.step()  # updating the weights\n",
    "\n",
    "            total_loss += loss.data.item()\n",
    "        print(\"Epoch: {}, BCELoss: {}\".format(epoch, total_loss / len(train_loader)))"
   ]
  },
  {
   "cell_type": "markdown",
   "metadata": {},
   "source": [
    "Supposing we have the training method above, we will test that it is working by writing a bit of code in the notebook that executes our training method on the small sample training set that we loaded earlier. The reason for doing this in the notebook is so that we have an opportunity to fix any errors that arise early when they are easier to diagnose."
   ]
  },
  {
   "cell_type": "code",
   "execution_count": 25,
   "metadata": {},
   "outputs": [
    {
     "name": "stdout",
     "output_type": "stream",
     "text": [
      "Epoch: 1, BCELoss: 0.6959858417510987\n",
      "Epoch: 2, BCELoss: 0.6876319646835327\n",
      "Epoch: 3, BCELoss: 0.6805662512779236\n",
      "Epoch: 4, BCELoss: 0.672799575328827\n",
      "Epoch: 5, BCELoss: 0.6632856965065003\n"
     ]
    }
   ],
   "source": [
    "import torch.optim as optim\n",
    "from train.model import LSTMClassifier\n",
    "\n",
    "device = torch.device(\"cuda\" if torch.cuda.is_available() else \"cpu\")\n",
    "model = LSTMClassifier(32, 100, 5000).to(device)\n",
    "optimizer = optim.Adam(model.parameters())\n",
    "loss_fn = torch.nn.BCELoss()\n",
    "\n",
    "train(model, train_sample_dl, 5, optimizer, loss_fn, device)"
   ]
  },
  {
   "cell_type": "markdown",
   "metadata": {},
   "source": [
    "In order to construct a PyTorch model using SageMaker we must provide SageMaker with a training script. We may optionally include a directory which will be copied to the container and from which our training code will be run. When the training container is executed it will check the uploaded directory (if there is one) for a `requirements.txt` file and install any required Python libraries, after which the training script will be run."
   ]
  },
  {
   "cell_type": "markdown",
   "metadata": {},
   "source": [
    "### (DONE) Training the model\n",
    "\n",
    "When a PyTorch model is constructed in SageMaker, an entry point must be specified. This is the Python file which will be executed when the model is trained. Inside of the `train` directory is a file called `train.py` which has been provided and which contains most of the necessary code to train our model. The only thing that is missing is the implementation of the `train()` method which you wrote earlier in this notebook.\n",
    "\n",
    "**DONE**: Copy the `train()` method written above and paste it into the `train/train.py` file where required.\n",
    "\n",
    "The way that SageMaker passes hyperparameters to the training script is by way of arguments. These arguments can then be parsed and used in the training script. To see how this is done take a look at the provided `train/train.py` file."
   ]
  },
  {
   "cell_type": "code",
   "execution_count": 26,
   "metadata": {},
   "outputs": [],
   "source": [
    "from sagemaker.pytorch import PyTorch\n",
    "\n",
    "estimator = PyTorch(entry_point=\"train.py\",\n",
    "                    source_dir=\"train\",\n",
    "                    role=role,\n",
    "                    framework_version='0.4.0',\n",
    "                    train_instance_count=1,\n",
    "                    train_instance_type='ml.p2.xlarge', # change this depending on AWS region\n",
    "                    hyperparameters={ \n",
    "                        'epochs': 10,\n",
    "                        'hidden_dim': 200,\n",
    "                    })"
   ]
  },
  {
   "cell_type": "code",
   "execution_count": 27,
   "metadata": {},
   "outputs": [
    {
     "name": "stdout",
     "output_type": "stream",
     "text": [
      "2019-10-16 18:03:10 Starting - Starting the training job...\n",
      "2019-10-16 18:03:12 Starting - Launching requested ML instances......\n",
      "2019-10-16 18:04:11 Starting - Preparing the instances for training......\n",
      "2019-10-16 18:05:17 Downloading - Downloading input data...\n",
      "2019-10-16 18:06:00 Training - Downloading the training image...\n",
      "2019-10-16 18:06:26 Training - Training image download completed. Training in progress.\u001b[31mbash: cannot set terminal process group (-1): Inappropriate ioctl for device\u001b[0m\n",
      "\u001b[31mbash: no job control in this shell\u001b[0m\n",
      "\u001b[31m2019-10-16 18:06:27,078 sagemaker-containers INFO     Imported framework sagemaker_pytorch_container.training\u001b[0m\n",
      "\u001b[31m2019-10-16 18:06:27,102 sagemaker_pytorch_container.training INFO     Block until all host DNS lookups succeed.\u001b[0m\n",
      "\u001b[31m2019-10-16 18:06:28,516 sagemaker_pytorch_container.training INFO     Invoking user training script.\u001b[0m\n",
      "\u001b[31m2019-10-16 18:06:28,744 sagemaker-containers INFO     Module train does not provide a setup.py. \u001b[0m\n",
      "\u001b[31mGenerating setup.py\u001b[0m\n",
      "\u001b[31m2019-10-16 18:06:28,745 sagemaker-containers INFO     Generating setup.cfg\u001b[0m\n",
      "\u001b[31m2019-10-16 18:06:28,745 sagemaker-containers INFO     Generating MANIFEST.in\u001b[0m\n",
      "\u001b[31m2019-10-16 18:06:28,745 sagemaker-containers INFO     Installing module with the following command:\u001b[0m\n",
      "\u001b[31m/usr/bin/python -m pip install -U . -r requirements.txt\u001b[0m\n",
      "\u001b[31mProcessing /opt/ml/code\u001b[0m\n",
      "\u001b[31mCollecting pandas (from -r requirements.txt (line 1))\n",
      "  Downloading https://files.pythonhosted.org/packages/74/24/0cdbf8907e1e3bc5a8da03345c23cbed7044330bb8f73bb12e711a640a00/pandas-0.24.2-cp35-cp35m-manylinux1_x86_64.whl (10.0MB)\u001b[0m\n",
      "\u001b[31mCollecting numpy (from -r requirements.txt (line 2))\n",
      "  Downloading https://files.pythonhosted.org/packages/9b/21/2b18339d24a2f73dcefb2f10f48aff6182e16da83e3a612684443c6cfb29/numpy-1.17.2-cp35-cp35m-manylinux1_x86_64.whl (20.1MB)\u001b[0m\n",
      "\u001b[31mCollecting nltk (from -r requirements.txt (line 3))\n",
      "  Downloading https://files.pythonhosted.org/packages/f6/1d/d925cfb4f324ede997f6d47bea4d9babba51b49e87a767c170b77005889d/nltk-3.4.5.zip (1.5MB)\u001b[0m\n",
      "\u001b[31mCollecting beautifulsoup4 (from -r requirements.txt (line 4))\n",
      "  Downloading https://files.pythonhosted.org/packages/3b/c8/a55eb6ea11cd7e5ac4bacdf92bac4693b90d3ba79268be16527555e186f0/beautifulsoup4-4.8.1-py3-none-any.whl (101kB)\u001b[0m\n",
      "\u001b[31mCollecting html5lib (from -r requirements.txt (line 5))\n",
      "  Downloading https://files.pythonhosted.org/packages/a5/62/bbd2be0e7943ec8504b517e62bab011b4946e1258842bc159e5dfde15b96/html5lib-1.0.1-py2.py3-none-any.whl (117kB)\u001b[0m\n",
      "\u001b[31mCollecting pytz>=2011k (from pandas->-r requirements.txt (line 1))\n",
      "  Downloading https://files.pythonhosted.org/packages/e7/f9/f0b53f88060247251bf481fa6ea62cd0d25bf1b11a87888e53ce5b7c8ad2/pytz-2019.3-py2.py3-none-any.whl (509kB)\u001b[0m\n",
      "\u001b[31mRequirement already satisfied, skipping upgrade: python-dateutil>=2.5.0 in /usr/local/lib/python3.5/dist-packages (from pandas->-r requirements.txt (line 1)) (2.7.5)\u001b[0m\n",
      "\u001b[31mRequirement already satisfied, skipping upgrade: six in /usr/local/lib/python3.5/dist-packages (from nltk->-r requirements.txt (line 3)) (1.11.0)\u001b[0m\n",
      "\u001b[31mCollecting soupsieve>=1.2 (from beautifulsoup4->-r requirements.txt (line 4))\n",
      "  Downloading https://files.pythonhosted.org/packages/5d/42/d821581cf568e9b7dfc5b415aa61952b0f5e3dede4f3cbd650e3a1082992/soupsieve-1.9.4-py2.py3-none-any.whl\u001b[0m\n",
      "\u001b[31mCollecting webencodings (from html5lib->-r requirements.txt (line 5))\n",
      "  Downloading https://files.pythonhosted.org/packages/f4/24/2a3e3df732393fed8b3ebf2ec078f05546de641fe1b667ee316ec1dcf3b7/webencodings-0.5.1-py2.py3-none-any.whl\u001b[0m\n",
      "\u001b[31mBuilding wheels for collected packages: nltk, train\n",
      "  Running setup.py bdist_wheel for nltk: started\u001b[0m\n",
      "\u001b[31m  Running setup.py bdist_wheel for nltk: finished with status 'done'\n",
      "  Stored in directory: /root/.cache/pip/wheels/96/86/f6/68ab24c23f207c0077381a5e3904b2815136b879538a24b483\n",
      "  Running setup.py bdist_wheel for train: started\n",
      "  Running setup.py bdist_wheel for train: finished with status 'done'\n",
      "  Stored in directory: /tmp/pip-ephem-wheel-cache-_s1dfe8f/wheels/35/24/16/37574d11bf9bde50616c67372a334f94fa8356bc7164af8ca3\u001b[0m\n",
      "\u001b[31mSuccessfully built nltk train\u001b[0m\n",
      "\u001b[31mInstalling collected packages: pytz, numpy, pandas, nltk, soupsieve, beautifulsoup4, webencodings, html5lib, train\n",
      "  Found existing installation: numpy 1.15.4\n",
      "    Uninstalling numpy-1.15.4:\u001b[0m\n",
      "\u001b[31m      Successfully uninstalled numpy-1.15.4\u001b[0m\n",
      "\u001b[31mSuccessfully installed beautifulsoup4-4.8.1 html5lib-1.0.1 nltk-3.4.5 numpy-1.17.2 pandas-0.24.2 pytz-2019.3 soupsieve-1.9.4 train-1.0.0 webencodings-0.5.1\u001b[0m\n",
      "\u001b[31mYou are using pip version 18.1, however version 19.3 is available.\u001b[0m\n",
      "\u001b[31mYou should consider upgrading via the 'pip install --upgrade pip' command.\u001b[0m\n",
      "\u001b[31m2019-10-16 18:06:41,177 sagemaker-containers INFO     Invoking user script\n",
      "\u001b[0m\n",
      "\u001b[31mTraining Env:\n",
      "\u001b[0m\n",
      "\u001b[31m{\n",
      "    \"network_interface_name\": \"eth0\",\n",
      "    \"current_host\": \"algo-1\",\n",
      "    \"user_entry_point\": \"train.py\",\n",
      "    \"output_intermediate_dir\": \"/opt/ml/output/intermediate\",\n",
      "    \"output_dir\": \"/opt/ml/output\",\n",
      "    \"job_name\": \"sagemaker-pytorch-2019-10-16-18-03-09-784\",\n",
      "    \"log_level\": 20,\n",
      "    \"hosts\": [\n",
      "        \"algo-1\"\n",
      "    ],\n",
      "    \"channel_input_dirs\": {\n",
      "        \"training\": \"/opt/ml/input/data/training\"\n",
      "    },\n",
      "    \"input_config_dir\": \"/opt/ml/input/config\",\n",
      "    \"module_dir\": \"s3://sagemaker-us-east-2-813256730331/sagemaker-pytorch-2019-10-16-18-03-09-784/source/sourcedir.tar.gz\",\n",
      "    \"input_dir\": \"/opt/ml/input\",\n",
      "    \"num_gpus\": 1,\n",
      "    \"additional_framework_parameters\": {},\n",
      "    \"module_name\": \"train\",\n",
      "    \"model_dir\": \"/opt/ml/model\",\n",
      "    \"resource_config\": {\n",
      "        \"current_host\": \"algo-1\",\n",
      "        \"network_interface_name\": \"eth0\",\n",
      "        \"hosts\": [\n",
      "            \"algo-1\"\n",
      "        ]\n",
      "    },\n",
      "    \"num_cpus\": 4,\n",
      "    \"input_data_config\": {\n",
      "        \"training\": {\n",
      "            \"S3DistributionType\": \"FullyReplicated\",\n",
      "            \"RecordWrapperType\": \"None\",\n",
      "            \"TrainingInputMode\": \"File\"\n",
      "        }\n",
      "    },\n",
      "    \"output_data_dir\": \"/opt/ml/output/data\",\n",
      "    \"framework_module\": \"sagemaker_pytorch_container.training:main\",\n",
      "    \"hyperparameters\": {\n",
      "        \"hidden_dim\": 200,\n",
      "        \"epochs\": 10\n",
      "    }\u001b[0m\n",
      "\u001b[31m}\n",
      "\u001b[0m\n",
      "\u001b[31mEnvironment variables:\n",
      "\u001b[0m\n",
      "\u001b[31mSM_INPUT_DIR=/opt/ml/input\u001b[0m\n",
      "\u001b[31mSM_NUM_CPUS=4\u001b[0m\n",
      "\u001b[31mSM_OUTPUT_DATA_DIR=/opt/ml/output/data\u001b[0m\n",
      "\u001b[31mSM_HP_EPOCHS=10\u001b[0m\n",
      "\u001b[31mSM_OUTPUT_DIR=/opt/ml/output\u001b[0m\n",
      "\u001b[31mSM_CHANNELS=[\"training\"]\u001b[0m\n",
      "\u001b[31mSM_HPS={\"epochs\":10,\"hidden_dim\":200}\u001b[0m\n",
      "\u001b[31mSM_TRAINING_ENV={\"additional_framework_parameters\":{},\"channel_input_dirs\":{\"training\":\"/opt/ml/input/data/training\"},\"current_host\":\"algo-1\",\"framework_module\":\"sagemaker_pytorch_container.training:main\",\"hosts\":[\"algo-1\"],\"hyperparameters\":{\"epochs\":10,\"hidden_dim\":200},\"input_config_dir\":\"/opt/ml/input/config\",\"input_data_config\":{\"training\":{\"RecordWrapperType\":\"None\",\"S3DistributionType\":\"FullyReplicated\",\"TrainingInputMode\":\"File\"}},\"input_dir\":\"/opt/ml/input\",\"job_name\":\"sagemaker-pytorch-2019-10-16-18-03-09-784\",\"log_level\":20,\"model_dir\":\"/opt/ml/model\",\"module_dir\":\"s3://sagemaker-us-east-2-813256730331/sagemaker-pytorch-2019-10-16-18-03-09-784/source/sourcedir.tar.gz\",\"module_name\":\"train\",\"network_interface_name\":\"eth0\",\"num_cpus\":4,\"num_gpus\":1,\"output_data_dir\":\"/opt/ml/output/data\",\"output_dir\":\"/opt/ml/output\",\"output_intermediate_dir\":\"/opt/ml/output/intermediate\",\"resource_config\":{\"current_host\":\"algo-1\",\"hosts\":[\"algo-1\"],\"network_interface_name\":\"eth0\"},\"user_entry_point\":\"train.py\"}\u001b[0m\n",
      "\u001b[31mSM_FRAMEWORK_MODULE=sagemaker_pytorch_container.training:main\u001b[0m\n",
      "\u001b[31mSM_INPUT_DATA_CONFIG={\"training\":{\"RecordWrapperType\":\"None\",\"S3DistributionType\":\"FullyReplicated\",\"TrainingInputMode\":\"File\"}}\u001b[0m\n",
      "\u001b[31mSM_OUTPUT_INTERMEDIATE_DIR=/opt/ml/output/intermediate\u001b[0m\n",
      "\u001b[31mSM_CURRENT_HOST=algo-1\u001b[0m\n",
      "\u001b[31mSM_NUM_GPUS=1\u001b[0m\n",
      "\u001b[31mSM_USER_ENTRY_POINT=train.py\u001b[0m\n",
      "\u001b[31mSM_RESOURCE_CONFIG={\"current_host\":\"algo-1\",\"hosts\":[\"algo-1\"],\"network_interface_name\":\"eth0\"}\u001b[0m\n",
      "\u001b[31mSM_HP_HIDDEN_DIM=200\u001b[0m\n",
      "\u001b[31mSM_MODULE_NAME=train\u001b[0m\n",
      "\u001b[31mSM_USER_ARGS=[\"--epochs\",\"10\",\"--hidden_dim\",\"200\"]\u001b[0m\n",
      "\u001b[31mSM_CHANNEL_TRAINING=/opt/ml/input/data/training\u001b[0m\n",
      "\u001b[31mSM_FRAMEWORK_PARAMS={}\u001b[0m\n",
      "\u001b[31mSM_HOSTS=[\"algo-1\"]\u001b[0m\n",
      "\u001b[31mSM_INPUT_CONFIG_DIR=/opt/ml/input/config\u001b[0m\n",
      "\u001b[31mSM_MODEL_DIR=/opt/ml/model\u001b[0m\n",
      "\u001b[31mSM_LOG_LEVEL=20\u001b[0m\n",
      "\u001b[31mSM_MODULE_DIR=s3://sagemaker-us-east-2-813256730331/sagemaker-pytorch-2019-10-16-18-03-09-784/source/sourcedir.tar.gz\u001b[0m\n",
      "\u001b[31mPYTHONPATH=/usr/local/bin:/usr/lib/python35.zip:/usr/lib/python3.5:/usr/lib/python3.5/plat-x86_64-linux-gnu:/usr/lib/python3.5/lib-dynload:/usr/local/lib/python3.5/dist-packages:/usr/lib/python3/dist-packages\u001b[0m\n",
      "\u001b[31mSM_NETWORK_INTERFACE_NAME=eth0\n",
      "\u001b[0m\n",
      "\u001b[31mInvoking script with the following command:\n",
      "\u001b[0m\n",
      "\u001b[31m/usr/bin/python -m train --epochs 10 --hidden_dim 200\n",
      "\n",
      "\u001b[0m\n",
      "\u001b[31mUsing device cuda.\u001b[0m\n",
      "\u001b[31mGet train data loader.\u001b[0m\n"
     ]
    },
    {
     "name": "stdout",
     "output_type": "stream",
     "text": [
      "\u001b[31mModel loaded with embedding_dim 32, hidden_dim 200, vocab_size 5000.\u001b[0m\n",
      "\u001b[31mEpoch: 1, BCELoss: 0.6709522848226586\u001b[0m\n",
      "\u001b[31mEpoch: 2, BCELoss: 0.5982101048742022\u001b[0m\n",
      "\u001b[31mEpoch: 3, BCELoss: 0.5016279549014812\u001b[0m\n",
      "\u001b[31mEpoch: 4, BCELoss: 0.4385363769774534\u001b[0m\n",
      "\u001b[31mEpoch: 5, BCELoss: 0.404562166758946\u001b[0m\n",
      "\u001b[31mEpoch: 6, BCELoss: 0.34695468265183116\u001b[0m\n",
      "\u001b[31mEpoch: 7, BCELoss: 0.32026755931426065\u001b[0m\n",
      "\u001b[31mEpoch: 8, BCELoss: 0.296822978829851\u001b[0m\n",
      "\u001b[31mEpoch: 9, BCELoss: 0.2741287472296734\u001b[0m\n",
      "\n",
      "2019-10-16 18:09:41 Uploading - Uploading generated training model\u001b[31mEpoch: 10, BCELoss: 0.2655720455305917\u001b[0m\n",
      "\u001b[31m2019-10-16 18:09:38,157 sagemaker-containers INFO     Reporting training SUCCESS\u001b[0m\n",
      "\n",
      "2019-10-16 18:09:46 Completed - Training job completed\n",
      "Training seconds: 269\n",
      "Billable seconds: 269\n"
     ]
    }
   ],
   "source": [
    "estimator.fit({'training': input_data})"
   ]
  },
  {
   "cell_type": "markdown",
   "metadata": {},
   "source": [
    "## Step 5: Testing the model\n",
    "\n",
    "As mentioned at the top of this notebook, we will be testing this model by first deploying it and then sending the testing data to the deployed endpoint. We will do this so that we can make sure that the deployed model is working correctly.\n",
    "\n",
    "## Step 6: Deploy the model for testing\n",
    "\n",
    "Now that we have trained our model, we would like to test it to see how it performs. Currently our model takes input of the form `review_length, review[500]` where `review[500]` is a sequence of `500` integers which describe the words present in the review, encoded using `word_dict`. Fortunately for us, SageMaker provides built-in inference code for models with simple inputs such as this.\n",
    "\n",
    "There is one thing that we need to provide, however, and that is a function which loads the saved model. This function must be called `model_fn()` and takes as its only parameter a path to the directory where the model artifacts are stored. This function must also be present in the python file which we specified as the entry point. In our case the model loading function has been provided and so no changes need to be made.\n",
    "\n",
    "**NOTE**: When the built-in inference code is run it must import the `model_fn()` method from the `train.py` file. This is why the training code is wrapped in a main guard ( ie, `if __name__ == '__main__':` )\n",
    "\n",
    "Since we don't need to change anything in the code that was uploaded during training, we can simply deploy the current model as-is.\n",
    "\n",
    "**NOTE:** When deploying a model you are asking SageMaker to launch an compute instance that will wait for data to be sent to it. As a result, this compute instance will continue to run until *you* shut it down. This is important to know since the cost of a deployed endpoint depends on how long it has been running for.\n",
    "\n",
    "In other words **If you are no longer using a deployed endpoint, shut it down!**\n",
    "\n",
    "**DONE:** Deploy the trained model."
   ]
  },
  {
   "cell_type": "code",
   "execution_count": 29,
   "metadata": {},
   "outputs": [
    {
     "name": "stdout",
     "output_type": "stream",
     "text": [
      "--------------------------------------------------------------------------------------!"
     ]
    }
   ],
   "source": [
    "# DONE: Deploy the trained model\n",
    "\n",
    "predictor = estimator.deploy(initial_instance_count = 1, instance_type = 'ml.m4.xlarge')"
   ]
  },
  {
   "cell_type": "markdown",
   "metadata": {},
   "source": [
    "## Step 7 - Use the model for testing\n",
    "\n",
    "Once deployed, we can read in the test data and send it off to our deployed model to get some results. Once we collect all of the results we can determine how accurate our model is."
   ]
  },
  {
   "cell_type": "code",
   "execution_count": 30,
   "metadata": {},
   "outputs": [],
   "source": [
    "test_X = pd.concat([pd.DataFrame(test_X_len), pd.DataFrame(test_X)], axis=1)"
   ]
  },
  {
   "cell_type": "code",
   "execution_count": 31,
   "metadata": {},
   "outputs": [],
   "source": [
    "# We split the data into chunks and send each chunk seperately, accumulating the results.\n",
    "\n",
    "def predict(data, rows=512):\n",
    "    split_array = np.array_split(data, int(data.shape[0] / float(rows) + 1))\n",
    "    predictions = np.array([])\n",
    "    for array in split_array:\n",
    "        predictions = np.append(predictions, predictor.predict(array))\n",
    "    \n",
    "    return predictions"
   ]
  },
  {
   "cell_type": "code",
   "execution_count": 32,
   "metadata": {},
   "outputs": [],
   "source": [
    "predictions = predict(test_X.values)\n",
    "predictions = [round(num) for num in predictions]"
   ]
  },
  {
   "cell_type": "code",
   "execution_count": 33,
   "metadata": {},
   "outputs": [
    {
     "data": {
      "text/plain": [
       "0.8432"
      ]
     },
     "execution_count": 33,
     "metadata": {},
     "output_type": "execute_result"
    }
   ],
   "source": [
    "from sklearn.metrics import accuracy_score\n",
    "accuracy_score(test_y, predictions)"
   ]
  },
  {
   "cell_type": "markdown",
   "metadata": {},
   "source": [
    "**Question:** How does this model compare to the XGBoost model you created earlier? Why might these two models perform differently on this dataset? Which do *you* think is better for sentiment analysis?"
   ]
  },
  {
   "cell_type": "markdown",
   "metadata": {},
   "source": [
    "**Answer:** XGBoost is slightly better but no significant difference can be observed. "
   ]
  },
  {
   "cell_type": "markdown",
   "metadata": {},
   "source": [
    "### (DONE) More testing\n",
    "\n",
    "We now have a trained model which has been deployed and which we can send processed reviews to and which returns the predicted sentiment. However, ultimately we would like to be able to send our model an unprocessed review. That is, we would like to send the review itself as a string. For example, suppose we wish to send the following review to our model."
   ]
  },
  {
   "cell_type": "code",
   "execution_count": 34,
   "metadata": {},
   "outputs": [],
   "source": [
    "test_review = 'The simplest pleasures in life are the best, and this film is one of them. Combining a rather basic storyline of love and adventure this movie transcends the usual weekend fair with wit and unmitigated charm.'"
   ]
  },
  {
   "cell_type": "markdown",
   "metadata": {},
   "source": [
    "The question we now need to answer is, how do we send this review to our model?\n",
    "\n",
    "Recall in the first section of this notebook we did a bunch of data processing to the IMDb dataset. In particular, we did two specific things to the provided reviews.\n",
    " - Removed any html tags and stemmed the input\n",
    " - Encoded the review as a sequence of integers using `word_dict`\n",
    " \n",
    "In order process the review we will need to repeat these two steps.\n",
    "\n",
    "**DONE**: Using the `review_to_words` and `convert_and_pad` methods from section one, convert `test_review` into a numpy array `test_data` suitable to send to our model. Remember that our model expects input of the form `review_length, review[500]`."
   ]
  },
  {
   "cell_type": "code",
   "execution_count": 35,
   "metadata": {},
   "outputs": [],
   "source": [
    "# DONE: Convert test_review into a form usable by the model and save the results in test_data\n",
    "\n",
    "test_data = [np.array(convert_and_pad(word_dict, review_to_words(test_review))[0])]"
   ]
  },
  {
   "cell_type": "markdown",
   "metadata": {},
   "source": [
    "Now that we have processed the review, we can send the resulting array to our model to predict the sentiment of the review."
   ]
  },
  {
   "cell_type": "code",
   "execution_count": 36,
   "metadata": {},
   "outputs": [
    {
     "data": {
      "text/plain": [
       "array(0.49834064, dtype=float32)"
      ]
     },
     "execution_count": 36,
     "metadata": {},
     "output_type": "execute_result"
    }
   ],
   "source": [
    "predictor.predict(test_data)"
   ]
  },
  {
   "cell_type": "markdown",
   "metadata": {},
   "source": [
    "Since the return value of our model is close to `1`, we can be certain that the review we submitted is positive."
   ]
  },
  {
   "cell_type": "markdown",
   "metadata": {},
   "source": [
    "### Delete the endpoint\n",
    "\n",
    "Of course, just like in the XGBoost notebook, once we've deployed an endpoint it continues to run until we tell it to shut down. Since we are done using our endpoint for now, we can delete it."
   ]
  },
  {
   "cell_type": "code",
   "execution_count": 37,
   "metadata": {},
   "outputs": [],
   "source": [
    "estimator.delete_endpoint()"
   ]
  },
  {
   "cell_type": "markdown",
   "metadata": {},
   "source": [
    "## Step 6 (again) - Deploy the model for the web app\n",
    "\n",
    "Now that we know that our model is working, it's time to create some custom inference code so that we can send the model a review which has not been processed and have it determine the sentiment of the review.\n",
    "\n",
    "As we saw above, by default the estimator which we created, when deployed, will use the entry script and directory which we provided when creating the model. However, since we now wish to accept a string as input and our model expects a processed review, we need to write some custom inference code.\n",
    "\n",
    "We will store the code that we write in the `serve` directory. Provided in this directory is the `model.py` file that we used to construct our model, a `utils.py` file which contains the `review_to_words` and `convert_and_pad` pre-processing functions which we used during the initial data processing, and `predict.py`, the file which will contain our custom inference code. Note also that `requirements.txt` is present which will tell SageMaker what Python libraries are required by our custom inference code.\n",
    "\n",
    "When deploying a PyTorch model in SageMaker, you are expected to provide four functions which the SageMaker inference container will use.\n",
    " - `model_fn`: This function is the same function that we used in the training script and it tells SageMaker how to load our model.\n",
    " - `input_fn`: This function receives the raw serialized input that has been sent to the model's endpoint and its job is to de-serialize and make the input available for the inference code.\n",
    " - `output_fn`: This function takes the output of the inference code and its job is to serialize this output and return it to the caller of the model's endpoint.\n",
    " - `predict_fn`: The heart of the inference script, this is where the actual prediction is done and is the function which you will need to complete.\n",
    "\n",
    "For the simple website that we are constructing during this project, the `input_fn` and `output_fn` methods are relatively straightforward. We only require being able to accept a string as input and we expect to return a single value as output. You might imagine though that in a more complex application the input or output may be image data or some other binary data which would require some effort to serialize.\n",
    "\n",
    "### (DONE) Writing inference code\n",
    "\n",
    "Before writing our custom inference code, we will begin by taking a look at the code which has been provided."
   ]
  },
  {
   "cell_type": "code",
   "execution_count": 64,
   "metadata": {},
   "outputs": [
    {
     "name": "stdout",
     "output_type": "stream",
     "text": [
      "\u001b[34mimport\u001b[39;49;00m \u001b[04m\u001b[36margparse\u001b[39;49;00m\r\n",
      "\u001b[34mimport\u001b[39;49;00m \u001b[04m\u001b[36mjson\u001b[39;49;00m\r\n",
      "\u001b[34mimport\u001b[39;49;00m \u001b[04m\u001b[36mos\u001b[39;49;00m\r\n",
      "\u001b[34mimport\u001b[39;49;00m \u001b[04m\u001b[36mpickle\u001b[39;49;00m\r\n",
      "\u001b[34mimport\u001b[39;49;00m \u001b[04m\u001b[36msys\u001b[39;49;00m\r\n",
      "\u001b[34mimport\u001b[39;49;00m \u001b[04m\u001b[36msagemaker_containers\u001b[39;49;00m\r\n",
      "\u001b[34mimport\u001b[39;49;00m \u001b[04m\u001b[36mpandas\u001b[39;49;00m \u001b[34mas\u001b[39;49;00m \u001b[04m\u001b[36mpd\u001b[39;49;00m\r\n",
      "\u001b[34mimport\u001b[39;49;00m \u001b[04m\u001b[36mnumpy\u001b[39;49;00m \u001b[34mas\u001b[39;49;00m \u001b[04m\u001b[36mnp\u001b[39;49;00m\r\n",
      "\u001b[34mimport\u001b[39;49;00m \u001b[04m\u001b[36mtorch\u001b[39;49;00m\r\n",
      "\u001b[34mimport\u001b[39;49;00m \u001b[04m\u001b[36mtorch.nn\u001b[39;49;00m \u001b[34mas\u001b[39;49;00m \u001b[04m\u001b[36mnn\u001b[39;49;00m\r\n",
      "\u001b[34mimport\u001b[39;49;00m \u001b[04m\u001b[36mtorch.optim\u001b[39;49;00m \u001b[34mas\u001b[39;49;00m \u001b[04m\u001b[36moptim\u001b[39;49;00m\r\n",
      "\u001b[34mimport\u001b[39;49;00m \u001b[04m\u001b[36mtorch.utils.data\u001b[39;49;00m\r\n",
      "\r\n",
      "\u001b[34mfrom\u001b[39;49;00m \u001b[04m\u001b[36mmodel\u001b[39;49;00m \u001b[34mimport\u001b[39;49;00m LSTMClassifier\r\n",
      "\r\n",
      "\u001b[34mfrom\u001b[39;49;00m \u001b[04m\u001b[36mutils\u001b[39;49;00m \u001b[34mimport\u001b[39;49;00m review_to_words, convert_and_pad\r\n",
      "\r\n",
      "\u001b[34mdef\u001b[39;49;00m \u001b[32mmodel_fn\u001b[39;49;00m(model_dir):\r\n",
      "    \u001b[33m\"\"\"Load the PyTorch model from the `model_dir` directory.\"\"\"\u001b[39;49;00m\r\n",
      "    \u001b[34mprint\u001b[39;49;00m(\u001b[33m\"\u001b[39;49;00m\u001b[33mLoading model.\u001b[39;49;00m\u001b[33m\"\u001b[39;49;00m)\r\n",
      "\r\n",
      "    \u001b[37m# First, load the parameters used to create the model.\u001b[39;49;00m\r\n",
      "    model_info = {}\r\n",
      "    model_info_path = os.path.join(model_dir, \u001b[33m'\u001b[39;49;00m\u001b[33mmodel_info.pth\u001b[39;49;00m\u001b[33m'\u001b[39;49;00m)\r\n",
      "    \u001b[34mwith\u001b[39;49;00m \u001b[36mopen\u001b[39;49;00m(model_info_path, \u001b[33m'\u001b[39;49;00m\u001b[33mrb\u001b[39;49;00m\u001b[33m'\u001b[39;49;00m) \u001b[34mas\u001b[39;49;00m f:\r\n",
      "        model_info = torch.load(f)\r\n",
      "\r\n",
      "    \u001b[34mprint\u001b[39;49;00m(\u001b[33m\"\u001b[39;49;00m\u001b[33mmodel_info: {}\u001b[39;49;00m\u001b[33m\"\u001b[39;49;00m.format(model_info))\r\n",
      "\r\n",
      "    \u001b[37m# Determine the device and construct the model.\u001b[39;49;00m\r\n",
      "    device = torch.device(\u001b[33m\"\u001b[39;49;00m\u001b[33mcuda\u001b[39;49;00m\u001b[33m\"\u001b[39;49;00m \u001b[34mif\u001b[39;49;00m torch.cuda.is_available() \u001b[34melse\u001b[39;49;00m \u001b[33m\"\u001b[39;49;00m\u001b[33mcpu\u001b[39;49;00m\u001b[33m\"\u001b[39;49;00m)\r\n",
      "    model = LSTMClassifier(model_info[\u001b[33m'\u001b[39;49;00m\u001b[33membedding_dim\u001b[39;49;00m\u001b[33m'\u001b[39;49;00m], model_info[\u001b[33m'\u001b[39;49;00m\u001b[33mhidden_dim\u001b[39;49;00m\u001b[33m'\u001b[39;49;00m], model_info[\u001b[33m'\u001b[39;49;00m\u001b[33mvocab_size\u001b[39;49;00m\u001b[33m'\u001b[39;49;00m])\r\n",
      "\r\n",
      "    \u001b[37m# Load the store model parameters.\u001b[39;49;00m\r\n",
      "    model_path = os.path.join(model_dir, \u001b[33m'\u001b[39;49;00m\u001b[33mmodel.pth\u001b[39;49;00m\u001b[33m'\u001b[39;49;00m)\r\n",
      "    \u001b[34mwith\u001b[39;49;00m \u001b[36mopen\u001b[39;49;00m(model_path, \u001b[33m'\u001b[39;49;00m\u001b[33mrb\u001b[39;49;00m\u001b[33m'\u001b[39;49;00m) \u001b[34mas\u001b[39;49;00m f:\r\n",
      "        model.load_state_dict(torch.load(f))\r\n",
      "\r\n",
      "    \u001b[37m# Load the saved word_dict.\u001b[39;49;00m\r\n",
      "    word_dict_path = os.path.join(model_dir, \u001b[33m'\u001b[39;49;00m\u001b[33mword_dict.pkl\u001b[39;49;00m\u001b[33m'\u001b[39;49;00m)\r\n",
      "    \u001b[34mwith\u001b[39;49;00m \u001b[36mopen\u001b[39;49;00m(word_dict_path, \u001b[33m'\u001b[39;49;00m\u001b[33mrb\u001b[39;49;00m\u001b[33m'\u001b[39;49;00m) \u001b[34mas\u001b[39;49;00m f:\r\n",
      "        model.word_dict = pickle.load(f)\r\n",
      "\r\n",
      "    model.to(device).eval()\r\n",
      "\r\n",
      "    \u001b[34mprint\u001b[39;49;00m(\u001b[33m\"\u001b[39;49;00m\u001b[33mDone loading model.\u001b[39;49;00m\u001b[33m\"\u001b[39;49;00m)\r\n",
      "    \u001b[34mreturn\u001b[39;49;00m model\r\n",
      "\r\n",
      "\u001b[34mdef\u001b[39;49;00m \u001b[32minput_fn\u001b[39;49;00m(serialized_input_data, content_type):\r\n",
      "    \u001b[34mprint\u001b[39;49;00m(\u001b[33m'\u001b[39;49;00m\u001b[33mDeserializing the input data.\u001b[39;49;00m\u001b[33m'\u001b[39;49;00m)\r\n",
      "    \u001b[34mif\u001b[39;49;00m content_type == \u001b[33m'\u001b[39;49;00m\u001b[33mtext/plain\u001b[39;49;00m\u001b[33m'\u001b[39;49;00m:\r\n",
      "        data = serialized_input_data.decode(\u001b[33m'\u001b[39;49;00m\u001b[33mutf-8\u001b[39;49;00m\u001b[33m'\u001b[39;49;00m)\r\n",
      "        \u001b[34mreturn\u001b[39;49;00m data\r\n",
      "    \u001b[34mraise\u001b[39;49;00m \u001b[36mException\u001b[39;49;00m(\u001b[33m'\u001b[39;49;00m\u001b[33mRequested unsupported ContentType in content_type: \u001b[39;49;00m\u001b[33m'\u001b[39;49;00m + content_type)\r\n",
      "\r\n",
      "\u001b[34mdef\u001b[39;49;00m \u001b[32moutput_fn\u001b[39;49;00m(prediction_output, accept):\r\n",
      "    \u001b[34mprint\u001b[39;49;00m(\u001b[33m'\u001b[39;49;00m\u001b[33mSerializing the generated output.\u001b[39;49;00m\u001b[33m'\u001b[39;49;00m)\r\n",
      "    \u001b[34mreturn\u001b[39;49;00m \u001b[36mstr\u001b[39;49;00m(prediction_output)\r\n",
      "\r\n",
      "\u001b[34mdef\u001b[39;49;00m \u001b[32mpredict_fn\u001b[39;49;00m(input_data, model):\r\n",
      "    \u001b[34mprint\u001b[39;49;00m(\u001b[33m'\u001b[39;49;00m\u001b[33mInferring sentiment of input data.\u001b[39;49;00m\u001b[33m'\u001b[39;49;00m)\r\n",
      "\r\n",
      "    device = torch.device(\u001b[33m\"\u001b[39;49;00m\u001b[33mcuda\u001b[39;49;00m\u001b[33m\"\u001b[39;49;00m \u001b[34mif\u001b[39;49;00m torch.cuda.is_available() \u001b[34melse\u001b[39;49;00m \u001b[33m\"\u001b[39;49;00m\u001b[33mcpu\u001b[39;49;00m\u001b[33m\"\u001b[39;49;00m)\r\n",
      "\r\n",
      "    \u001b[34mif\u001b[39;49;00m model.word_dict \u001b[35mis\u001b[39;49;00m \u001b[36mNone\u001b[39;49;00m:\r\n",
      "        \u001b[34mraise\u001b[39;49;00m \u001b[36mException\u001b[39;49;00m(\u001b[33m'\u001b[39;49;00m\u001b[33mModel has not been loaded properly, no word_dict.\u001b[39;49;00m\u001b[33m'\u001b[39;49;00m)\r\n",
      "\r\n",
      "    \u001b[37m# DONE: Process input_data so that it is ready to be sent to our model.\u001b[39;49;00m\r\n",
      "    \u001b[37m#       You should produce two variables:\u001b[39;49;00m\r\n",
      "    \u001b[37m#         data_X   - A sequence of length 500 which represents the converted review\u001b[39;49;00m\r\n",
      "    \u001b[37m#         data_len - The length of the review\u001b[39;49;00m\r\n",
      "\r\n",
      "    data_X = convert_and_pad(model.word_dict, review_to_words(input_data))[\u001b[34m0\u001b[39;49;00m]\r\n",
      "    data_len = convert_and_pad(model.word_dict, review_to_words(input_data))[\u001b[34m1\u001b[39;49;00m]\r\n",
      "\r\n",
      "    \u001b[37m# Using data_X and data_len we construct an appropriate input tensor. Remember\u001b[39;49;00m\r\n",
      "    \u001b[37m# that our model expects input data of the form 'len, review[500]'.\u001b[39;49;00m\r\n",
      "    data_pack = np.hstack((data_len, data_X))\r\n",
      "    data_pack = data_pack.reshape(\u001b[34m1\u001b[39;49;00m, -\u001b[34m1\u001b[39;49;00m)\r\n",
      "\r\n",
      "    data = torch.from_numpy(data_pack)\r\n",
      "    data = data.to(device)\r\n",
      "\r\n",
      "    \u001b[37m# Make sure to put the model into evaluation mode\u001b[39;49;00m\r\n",
      "    model.eval()\r\n",
      "\r\n",
      "    \u001b[37m# DONE: Compute the result of applying the model to the input data. The variable `result` should\u001b[39;49;00m\r\n",
      "    \u001b[37m#       be a numpy array which contains a single integer which is either 1 or 0\u001b[39;49;00m\r\n",
      "\r\n",
      "    \u001b[34mwith\u001b[39;49;00m torch.no_grad():\r\n",
      "        output = model.forward(data)\r\n",
      "\r\n",
      "    result = np.round(output.numpy())\r\n",
      "\r\n",
      "    \u001b[34mreturn\u001b[39;49;00m result\r\n"
     ]
    }
   ],
   "source": [
    "!pygmentize serve/predict.py"
   ]
  },
  {
   "cell_type": "markdown",
   "metadata": {},
   "source": [
    "As mentioned earlier, the `model_fn` method is the same as the one provided in the training code and the `input_fn` and `output_fn` methods are very simple and your task will be to complete the `predict_fn` method. Make sure that you save the completed file as `predict.py` in the `serve` directory.\n",
    "\n",
    "**DONE**: Complete the `predict_fn()` method in the `serve/predict.py` file."
   ]
  },
  {
   "cell_type": "markdown",
   "metadata": {},
   "source": [
    "### Deploying the model\n",
    "\n",
    "Now that the custom inference code has been written, we will create and deploy our model. To begin with, we need to construct a new PyTorchModel object which points to the model artifacts created during training and also points to the inference code that we wish to use. Then we can call the deploy method to launch the deployment container.\n",
    "\n",
    "**NOTE**: The default behaviour for a deployed PyTorch model is to assume that any input passed to the predictor is a `numpy` array. In our case we want to send a string so we need to construct a simple wrapper around the `RealTimePredictor` class to accomodate simple strings. In a more complicated situation you may want to provide a serialization object, for example if you wanted to sent image data."
   ]
  },
  {
   "cell_type": "code",
   "execution_count": 65,
   "metadata": {},
   "outputs": [
    {
     "name": "stdout",
     "output_type": "stream",
     "text": [
      "--------------------------------------------------------------------------------------------------!"
     ]
    }
   ],
   "source": [
    "from sagemaker.predictor import RealTimePredictor\n",
    "from sagemaker.pytorch import PyTorchModel\n",
    "\n",
    "class StringPredictor(RealTimePredictor):\n",
    "    def __init__(self, endpoint_name, sagemaker_session):\n",
    "        super(StringPredictor, self).__init__(endpoint_name, sagemaker_session, content_type='text/plain')\n",
    "\n",
    "model = PyTorchModel(model_data=estimator.model_data,\n",
    "                     role = role,\n",
    "                     framework_version='0.4.0',\n",
    "                     entry_point='predict.py',\n",
    "                     source_dir='serve',\n",
    "                     predictor_cls=StringPredictor)\n",
    "predictor = model.deploy(initial_instance_count=1, instance_type='ml.m4.xlarge')"
   ]
  },
  {
   "cell_type": "markdown",
   "metadata": {},
   "source": [
    "### Testing the model\n",
    "\n",
    "Now that we have deployed our model with the custom inference code, we should test to see if everything is working. Here we test our model by loading the first `250` positive and negative reviews and send them to the endpoint, then collect the results. The reason for only sending some of the data is that the amount of time it takes for our model to process the input and then perform inference is quite long and so testing the entire data set would be prohibitive."
   ]
  },
  {
   "cell_type": "code",
   "execution_count": 66,
   "metadata": {},
   "outputs": [],
   "source": [
    "import glob\n",
    "\n",
    "def test_reviews(data_dir='../data/aclImdb', stop=250):\n",
    "    \n",
    "    results = []\n",
    "    ground = []\n",
    "    \n",
    "    # We make sure to test both positive and negative reviews    \n",
    "    for sentiment in ['pos', 'neg']:\n",
    "        \n",
    "        path = os.path.join(data_dir, 'test', sentiment, '*.txt')\n",
    "        files = glob.glob(path)\n",
    "        \n",
    "        files_read = 0\n",
    "        \n",
    "        print('Starting ', sentiment, ' files')\n",
    "        \n",
    "        # Iterate through the files and send them to the predictor\n",
    "        for f in files:\n",
    "            with open(f) as review:\n",
    "                # First, we store the ground truth (was the review positive or negative)\n",
    "                if sentiment == 'pos':\n",
    "                    ground.append(1)\n",
    "                else:\n",
    "                    ground.append(0)\n",
    "                # Read in the review and convert to 'utf-8' for transmission via HTTP\n",
    "                review_input = review.read().encode('utf-8')\n",
    "                # Send the review to the predictor and store the results\n",
    "                results.append(float(predictor.predict(review_input)))\n",
    "                \n",
    "            # Sending reviews to our endpoint one at a time takes a while so we\n",
    "            # only send a small number of reviews\n",
    "            files_read += 1\n",
    "            if files_read == stop:\n",
    "                break\n",
    "            \n",
    "    return ground, results"
   ]
  },
  {
   "cell_type": "code",
   "execution_count": 67,
   "metadata": {},
   "outputs": [
    {
     "name": "stdout",
     "output_type": "stream",
     "text": [
      "Starting  pos  files\n",
      "Starting  neg  files\n"
     ]
    }
   ],
   "source": [
    "ground, results = test_reviews()"
   ]
  },
  {
   "cell_type": "code",
   "execution_count": 68,
   "metadata": {},
   "outputs": [
    {
     "data": {
      "text/plain": [
       "0.862"
      ]
     },
     "execution_count": 68,
     "metadata": {},
     "output_type": "execute_result"
    }
   ],
   "source": [
    "from sklearn.metrics import accuracy_score  \n",
    "accuracy_score(ground, results)"
   ]
  },
  {
   "cell_type": "markdown",
   "metadata": {},
   "source": [
    "As an additional test, we can try sending the `test_review` that we looked at earlier."
   ]
  },
  {
   "cell_type": "code",
   "execution_count": 69,
   "metadata": {},
   "outputs": [
    {
     "data": {
      "text/plain": [
       "b'1.0'"
      ]
     },
     "execution_count": 69,
     "metadata": {},
     "output_type": "execute_result"
    }
   ],
   "source": [
    "predictor.predict(test_review)"
   ]
  },
  {
   "cell_type": "markdown",
   "metadata": {},
   "source": [
    "Now that we know our endpoint is working as expected, we can set up the web page that will interact with it. If you don't have time to finish the project now, make sure to skip down to the end of this notebook and shut down your endpoint. You can deploy it again when you come back."
   ]
  },
  {
   "cell_type": "markdown",
   "metadata": {},
   "source": [
    "## Step 7 (again): Use the model for the web app\n",
    "\n",
    "> **DONE:** This entire section and the next contain tasks for you to complete, mostly using the AWS console.\n",
    "\n",
    "So far we have been accessing our model endpoint by constructing a predictor object which uses the endpoint and then just using the predictor object to perform inference. What if we wanted to create a web app which accessed our model? The way things are set up currently makes that not possible since in order to access a SageMaker endpoint the app would first have to authenticate with AWS using an IAM role which included access to SageMaker endpoints. However, there is an easier way! We just need to use some additional AWS services.\n",
    "\n",
    "<img src=\"Web App Diagram.svg\">\n",
    "\n",
    "The diagram above gives an overview of how the various services will work together. On the far right is the model which we trained above and which is deployed using SageMaker. On the far left is our web app that collects a user's movie review, sends it off and expects a positive or negative sentiment in return.\n",
    "\n",
    "In the middle is where some of the magic happens. We will construct a Lambda function, which you can think of as a straightforward Python function that can be executed whenever a specified event occurs. We will give this function permission to send and recieve data from a SageMaker endpoint.\n",
    "\n",
    "Lastly, the method we will use to execute the Lambda function is a new endpoint that we will create using API Gateway. This endpoint will be a url that listens for data to be sent to it. Once it gets some data it will pass that data on to the Lambda function and then return whatever the Lambda function returns. Essentially it will act as an interface that lets our web app communicate with the Lambda function.\n",
    "\n",
    "### Setting up a Lambda function\n",
    "\n",
    "The first thing we are going to do is set up a Lambda function. This Lambda function will be executed whenever our public API has data sent to it. When it is executed it will receive the data, perform any sort of processing that is required, send the data (the review) to the SageMaker endpoint we've created and then return the result.\n",
    "\n",
    "#### Part A: Create an IAM Role for the Lambda function\n",
    "\n",
    "Since we want the Lambda function to call a SageMaker endpoint, we need to make sure that it has permission to do so. To do this, we will construct a role that we can later give the Lambda function.\n",
    "\n",
    "Using the AWS Console, navigate to the **IAM** page and click on **Roles**. Then, click on **Create role**. Make sure that the **AWS service** is the type of trusted entity selected and choose **Lambda** as the service that will use this role, then click **Next: Permissions**.\n",
    "\n",
    "In the search box type `sagemaker` and select the check box next to the **AmazonSageMakerFullAccess** policy. Then, click on **Next: Review**.\n",
    "\n",
    "Lastly, give this role a name. Make sure you use a name that you will remember later on, for example `LambdaSageMakerRole`. Then, click on **Create role**.\n",
    "\n",
    "#### Part B: Create a Lambda function\n",
    "\n",
    "Now it is time to actually create the Lambda function.\n",
    "\n",
    "Using the AWS Console, navigate to the AWS Lambda page and click on **Create a function**. When you get to the next page, make sure that **Author from scratch** is selected. Now, name your Lambda function, using a name that you will remember later on, for example `sentiment_analysis_func`. Make sure that the **Python 3.6** runtime is selected and then choose the role that you created in the previous part. Then, click on **Create Function**.\n",
    "\n",
    "On the next page you will see some information about the Lambda function you've just created. If you scroll down you should see an editor in which you can write the code that will be executed when your Lambda function is triggered. In our example, we will use the code below. \n",
    "\n",
    "```python\n",
    "# We need to use the low-level library to interact with SageMaker since the SageMaker API\n",
    "# is not available natively through Lambda.\n",
    "import boto3\n",
    "\n",
    "def lambda_handler(event, context):\n",
    "\n",
    "    # The SageMaker runtime is what allows us to invoke the endpoint that we've created.\n",
    "    runtime = boto3.Session().client('sagemaker-runtime')\n",
    "\n",
    "    # Now we use the SageMaker runtime to invoke our endpoint, sending the review we were given\n",
    "    response = runtime.invoke_endpoint(EndpointName = '**ENDPOINT NAME HERE**',    # The name of the endpoint we created\n",
    "                                       ContentType = 'text/plain',                 # The data format that is expected\n",
    "                                       Body = event['body'])                       # The actual review\n",
    "\n",
    "    # The response is an HTTP response whose body contains the result of our inference\n",
    "    result = response['Body'].read().decode('utf-8')\n",
    "\n",
    "    return {\n",
    "        'statusCode' : 200,\n",
    "        'headers' : { 'Content-Type' : 'text/plain', 'Access-Control-Allow-Origin' : '*' },\n",
    "        'body' : result\n",
    "    }\n",
    "```\n",
    "\n",
    "Once you have copy and pasted the code above into the Lambda code editor, replace the `**ENDPOINT NAME HERE**` portion with the name of the endpoint that we deployed earlier. You can determine the name of the endpoint using the code cell below."
   ]
  },
  {
   "cell_type": "code",
   "execution_count": 75,
   "metadata": {},
   "outputs": [
    {
     "data": {
      "text/plain": [
       "'sagemaker-pytorch-2019-10-16-19-23-56-879'"
      ]
     },
     "execution_count": 75,
     "metadata": {},
     "output_type": "execute_result"
    }
   ],
   "source": [
    "predictor.endpoint"
   ]
  },
  {
   "cell_type": "markdown",
   "metadata": {},
   "source": [
    "Once you have added the endpoint name to the Lambda function, click on **Save**. Your Lambda function is now up and running. Next we need to create a way for our web app to execute the Lambda function.\n",
    "\n",
    "### Setting up API Gateway\n",
    "\n",
    "Now that our Lambda function is set up, it is time to create a new API using API Gateway that will trigger the Lambda function we have just created.\n",
    "\n",
    "Using AWS Console, navigate to **Amazon API Gateway** and then click on **Get started**.\n",
    "\n",
    "On the next page, make sure that **New API** is selected and give the new api a name, for example, `sentiment_analysis_api`. Then, click on **Create API**.\n",
    "\n",
    "Now we have created an API, however it doesn't currently do anything. What we want it to do is to trigger the Lambda function that we created earlier.\n",
    "\n",
    "Select the **Actions** dropdown menu and click **Create Method**. A new blank method will be created, select its dropdown menu and select **POST**, then click on the check mark beside it.\n",
    "\n",
    "For the integration point, make sure that **Lambda Function** is selected and click on the **Use Lambda Proxy integration**. This option makes sure that the data that is sent to the API is then sent directly to the Lambda function with no processing. It also means that the return value must be a proper response object as it will also not be processed by API Gateway.\n",
    "\n",
    "Type the name of the Lambda function you created earlier into the **Lambda Function** text entry box and then click on **Save**. Click on **OK** in the pop-up box that then appears, giving permission to API Gateway to invoke the Lambda function you created.\n",
    "\n",
    "The last step in creating the API Gateway is to select the **Actions** dropdown and click on **Deploy API**. You will need to create a new Deployment stage and name it anything you like, for example `prod`.\n",
    "\n",
    "You have now successfully set up a public API to access your SageMaker model. Make sure to copy or write down the URL provided to invoke your newly created public API as this will be needed in the next step. This URL can be found at the top of the page, highlighted in blue next to the text **Invoke URL**."
   ]
  },
  {
   "cell_type": "markdown",
   "metadata": {},
   "source": [
    "## Step 4: Deploying our web app\n",
    "\n",
    "Now that we have a publicly available API, we can start using it in a web app. For our purposes, we have provided a simple static html file which can make use of the public api you created earlier.\n",
    "\n",
    "In the `website` folder there should be a file called `index.html`. Download the file to your computer and open that file up in a text editor of your choice. There should be a line which contains **\\*\\*REPLACE WITH PUBLIC API URL\\*\\***. Replace this string with the url that you wrote down in the last step and then save the file.\n",
    "\n",
    "Now, if you open `index.html` on your local computer, your browser will behave as a local web server and you can use the provided site to interact with your SageMaker model.\n",
    "\n",
    "If you'd like to go further, you can host this html file anywhere you'd like, for example using github or hosting a static site on Amazon's S3. Once you have done this you can share the link with anyone you'd like and have them play with it too!\n",
    "\n",
    "> **Important Note** In order for the web app to communicate with the SageMaker endpoint, the endpoint has to actually be deployed and running. This means that you are paying for it. Make sure that the endpoint is running when you want to use the web app but that you shut it down when you don't need it, otherwise you will end up with a surprisingly large AWS bill.\n",
    "\n",
    "**DONE:** Make sure that you include the edited `index.html` file in your project submission."
   ]
  },
  {
   "cell_type": "markdown",
   "metadata": {},
   "source": [
    "**PUBLIC KEY** : https://lfilrzsx2i.execute-api.us-east-2.amazonaws.com/prod"
   ]
  },
  {
   "cell_type": "markdown",
   "metadata": {},
   "source": [
    "Now that your web app is working, trying playing around with it and see how well it works.\n",
    "\n",
    "**Question**: Give an example of a review that you entered into your web app. What was the predicted sentiment of your example review?"
   ]
  },
  {
   "cell_type": "markdown",
   "metadata": {},
   "source": [
    "<img src=\"data:image/png;base64,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\n",
    "\" />\n"
   ]
  },
  {
   "cell_type": "markdown",
   "metadata": {},
   "source": [
    "**Answer:** Real review taken live from https://www.imdb.com/title/tt10324144/reviews. Accurately worked on that one ! Yes !"
   ]
  },
  {
   "cell_type": "markdown",
   "metadata": {},
   "source": [
    "### Delete the endpoint\n",
    "\n",
    "Remember to always shut down your endpoint if you are no longer using it. You are charged for the length of time that the endpoint is running so if you forget and leave it on you could end up with an unexpectedly large bill."
   ]
  },
  {
   "cell_type": "code",
   "execution_count": 80,
   "metadata": {},
   "outputs": [
    {
     "name": "stdout",
     "output_type": "stream",
     "text": [
      "sagemaker-pytorch-2019-10-16-19-23-56-879\n"
     ]
    }
   ],
   "source": [
    "try:\n",
    "    predictor.delete_endpoint()\n",
    "except: \n",
    "    pass\n",
    "finally: \n",
    "    print(predictor.endpoint)"
   ]
  },
  {
   "cell_type": "code",
   "execution_count": null,
   "metadata": {},
   "outputs": [],
   "source": []
  }
 ],
 "metadata": {
  "kernelspec": {
   "display_name": "conda_pytorch_p36",
   "language": "python",
   "name": "conda_pytorch_p36"
  },
  "language_info": {
   "codemirror_mode": {
    "name": "ipython",
    "version": 3
   },
   "file_extension": ".py",
   "mimetype": "text/x-python",
   "name": "python",
   "nbconvert_exporter": "python",
   "pygments_lexer": "ipython3",
   "version": "3.6.5"
  }
 },
 "nbformat": 4,
 "nbformat_minor": 2
}
